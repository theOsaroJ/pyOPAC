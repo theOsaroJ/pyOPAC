{
 "cells": [
  {
   "cell_type": "code",
   "execution_count": null,
   "metadata": {},
   "outputs": [],
   "source": [
    "import os\n",
    "import json\n",
    "import pandas as pd\n",
    "import torch\n",
    "from opac.data.dataset import MoleculeDataset\n",
    "from opac.models.trainer import PropertyPredictor"
   ]
  },
  {
   "cell_type": "code",
   "execution_count": null,
   "metadata": {},
   "outputs": [],
   "source": [
    "# Load new descriptors\n",
    "df_new = pd.read_csv(os.path.join(\"dataset\", \"new_descriptors.csv\"))\n",
    "descriptor_cols = [col for col in df_new.columns if col != 'mol_id']\n",
    "descriptors = df_new[descriptor_cols].to_dict(\"records\")\n",
    "dataset = MoleculeDataset(descriptors, targets=None)\n"
   ]
  },
  {
   "cell_type": "code",
   "execution_count": null,
   "metadata": {},
   "outputs": [],
   "source": [
    "# Load model parameters\n",
    "model_path = os.path.join(\"saved_models\", \"trained_model.pth\")\n",
    "params_path = model_path + \".params.json\"\n",
    "with open(params_path, \"r\") as f:\n",
    "    model_params = json.load(f)\n",
    "input_dim = model_params[\"input_dim\"]\n",
    "hidden_dim = model_params[\"hidden_dim\"]\n",
    "output_dim = model_params[\"output_dim\"]\n"
   ]
  },
  {
   "cell_type": "code",
   "execution_count": null,
   "metadata": {},
   "outputs": [],
   "source": [
    "# Initialize and load the model\n",
    "model = PropertyPredictor(input_dim, hidden_dim, output_dim)\n",
    "model.load_state_dict(torch.load(model_path))\n",
    "model.eval()\n"
   ]
  },
  {
   "cell_type": "code",
   "execution_count": null,
   "metadata": {},
   "outputs": [],
   "source": [
    "# Make predictions for each molecule\n",
    "predictions = []\n",
    "with torch.no_grad():\n",
    "    for sample in dataset:\n",
    "        # Add batch dimension to the tensor\n",
    "        inputs = sample[\"descriptors\"].unsqueeze(0)\n",
    "        outputs = model(inputs)\n",
    "        predictions.append(outputs.numpy().flatten())\n"
   ]
  },
  {
   "cell_type": "code",
   "execution_count": null,
   "metadata": {},
   "outputs": [],
   "source": [
    "# Create a DataFrame with predictions\n",
    "property_names = [f\"Predicted_Property_{i+1}\" for i in range(output_dim)]\n",
    "df_preds = pd.DataFrame(predictions, columns=property_names)\n",
    "df_preds[\"mol_id\"] = df_new[\"mol_id\"]\n",
    "\n",
    "# Save predictions to CSV\n",
    "output_csv = os.path.join(\"dataset\", \"predictions.csv\")\n",
    "df_preds.to_csv(output_csv, index=False)\n",
    "print(f\"Predictions saved to {output_csv}\")"
   ]
  }
 ],
 "metadata": {
  "kernelspec": {
   "display_name": "Python 3",
   "language": "python",
   "name": "python3"
  },
  "language_info": {
   "name": "python",
   "version": "3.13.2"
  }
 },
 "nbformat": 4,
 "nbformat_minor": 2
}
