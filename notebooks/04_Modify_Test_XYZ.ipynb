{
 "cells": [
  {
   "cell_type": "code",
   "execution_count": null,
   "metadata": {},
   "outputs": [],
   "source": [
    "import os\n",
    "import shutil\n",
    "from creating_the_xyz.modify import modify_xyz_file"
   ]
  },
  {
   "cell_type": "code",
   "execution_count": null,
   "metadata": {},
   "outputs": [],
   "source": [
    "# Define file paths for test XYZ\n",
    "input_test_xyz = \"test.xyz\"\n",
    "modified_test_xyz = \"test_m.xyz\"\n",
    "dest_dir = os.path.join(\"dataset\", \"testing_xyz_files\")\n",
    "dest_file = os.path.join(dest_dir, \"test.xyz\")"
   ]
  },
  {
   "cell_type": "code",
   "execution_count": null,
   "metadata": {},
   "outputs": [],
   "source": [
    "# Modify the test XYZ file\n",
    "modify_xyz_file(input_test_xyz, modified_test_xyz)\n",
    "print(f\"Modified test XYZ file created: {modified_test_xyz}\")\n",
    "\n",
    "# Copy the modified file to the testing directory\n",
    "os.makedirs(dest_dir, exist_ok=True)\n",
    "shutil.copy(modified_test_xyz, dest_file)\n",
    "print(f\"Modified test file copied to {dest_file}\")"
   ]
  }
 ],
 "metadata": {
  "kernelspec": {
   "display_name": "Python 3",
   "language": "python",
   "name": "python3"
  },
  "language_info": {
   "name": "python",
   "version": "3.13.2"
  }
 },
 "nbformat": 4,
 "nbformat_minor": 2
}
