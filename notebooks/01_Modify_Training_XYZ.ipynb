{
 "cells": [
  {
   "cell_type": "code",
   "execution_count": null,
   "metadata": {},
   "outputs": [],
   "source": [
    "# import modules\n",
    "import os\n",
    "import shutil\n",
    "from creating_the_xyz.modify import modify_xyz_file"
   ]
  },
  {
   "cell_type": "code",
   "execution_count": null,
   "metadata": {},
   "outputs": [],
   "source": [
    "# Define file paths\n",
    "input_xyz = \"train_example.xyz\"\n",
    "modified_xyz = \"train_m.xyz\"\n",
    "dest_dir = os.path.join(\"dataset\", \"training_xyz_files\")\n",
    "dest_file = os.path.join(dest_dir, \"train.xyz\")"
   ]
  },
  {
   "cell_type": "code",
   "execution_count": null,
   "metadata": {},
   "outputs": [],
   "source": [
    "# Modify the training XYZ file\n",
    "modify_xyz_file(input_xyz, modified_xyz)\n",
    "print(f\"Modified file created: {modified_xyz}\")"
   ]
  },
  {
   "cell_type": "code",
   "execution_count": null,
   "metadata": {},
   "outputs": [],
   "source": [
    "# Ensure the destination directory exists and copy the file there\n",
    "os.makedirs(dest_dir, exist_ok=True)\n",
    "shutil.copy(modified_xyz, dest_file)\n",
    "print(f\"Modified training file copied to {dest_file}\")"
   ]
  }
 ],
 "metadata": {
  "kernelspec": {
   "display_name": "Python 3",
   "language": "python",
   "name": "python3"
  },
  "language_info": {
   "name": "python",
   "version": "3.13.2"
  }
 },
 "nbformat": 4,
 "nbformat_minor": 2
}
