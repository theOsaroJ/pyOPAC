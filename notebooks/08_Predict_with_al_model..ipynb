{
 "cells": [
  {
   "cell_type": "code",
   "execution_count": null,
   "metadata": {},
   "outputs": [],
   "source": [
    "import os\n",
    "import pandas as pd\n",
    "import torch\n",
    "from opac.data.dataset import MoleculeDataset  # Our unified dataset module\n",
    "from opac.utils.logger import get_logger\n",
    "\n",
    "logger = get_logger(__name__)\n"
   ]
  },
  {
   "cell_type": "code",
   "execution_count": null,
   "metadata": {},
   "outputs": [],
   "source": [
    "# Set the paths for the model, the input descriptors, and where to save predictions.\n",
    "\n",
    "model_file = os.path.join(\"saved_models\", \"al_trained_model.pth\")\n",
    "descriptors_file = os.path.join(\"dataset\", \"new_descriptors.csv\")\n",
    "predictions_output = os.path.join(\"dataset\", \"new_predictions.csv\")\n",
    "\n",
    "# The CSV should contain a column `mol_id` plus descriptor columns.\n",
    "df_descriptors = pd.read_csv(descriptors_file)\n",
    "# Assume the descriptor columns are all columns except 'mol_id'\n",
    "descriptor_columns = [col for col in df_descriptors.columns if col != \"mol_id\"]\n",
    "descriptors = df_descriptors[descriptor_columns].to_dict(\"records\")\n",
    "print(f\"Loaded descriptors for {len(descriptors)} molecules.\")\n"
   ]
  },
  {
   "cell_type": "code",
   "execution_count": null,
   "metadata": {},
   "outputs": [],
   "source": [
    "# We create a dataset from the descriptors. Since we're only predicting, no targets are needed.\n",
    "dataset = MoleculeDataset(descriptors, targets=None)\n",
    "\n",
    "# The model was saved using `torch.save(model, model_file)`, so we load the entire model.\n",
    "model = torch.load(model_file)\n",
    "model.eval()\n",
    "print(f\"Loaded active learning model from {model_file}\")\n"
   ]
  },
  {
   "cell_type": "code",
   "execution_count": null,
   "metadata": {},
   "outputs": [],
   "source": [
    "# For each sample in the dataset, we add a batch dimension to the descriptor tensor,\n",
    "# run the model, and collect the predictions.\n",
    "predictions = []\n",
    "with torch.no_grad():\n",
    "    for sample in dataset:\n",
    "        # Add batch dimension to the descriptor tensor.\n",
    "        inputs = sample[\"descriptors\"].unsqueeze(0)\n",
    "        outputs = model(inputs)\n",
    "        predictions.append(outputs.numpy().flatten())\n",
    "\n",
    "# Create a DataFrame with the predictions and the corresponding `mol_id`, then save to CSV.\n",
    "if predictions:\n",
    "    output_dim = predictions[0].shape[0]\n",
    "    property_names = [f\"Predicted_Property_{i+1}\" for i in range(output_dim)]\n",
    "else:\n",
    "    property_names = []\n",
    "\n",
    "df_preds = pd.DataFrame(predictions, columns=property_names)\n",
    "df_preds[\"mol_id\"] = df_descriptors[\"mol_id\"]\n",
    "\n",
    "df_preds.to_csv(predictions_output, index=False)\n",
    "logger.info(f\"Saved predictions to {predictions_output}\")\n",
    "print(f\"Predictions saved to {predictions_output}\")"
   ]
  }
 ],
 "metadata": {
  "kernelspec": {
   "display_name": "Python 3",
   "language": "python",
   "name": "python3"
  },
  "language_info": {
   "name": "python",
   "version": "3.13.2"
  }
 },
 "nbformat": 4,
 "nbformat_minor": 2
}
