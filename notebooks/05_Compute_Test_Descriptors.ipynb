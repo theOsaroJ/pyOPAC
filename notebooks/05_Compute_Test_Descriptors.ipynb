{
 "cells": [
  {
   "cell_type": "code",
   "execution_count": null,
   "metadata": {},
   "outputs": [],
   "source": [
    "import os\n",
    "import pandas as pd\n",
    "from opac.data.loader import read_xyz_files\n",
    "from opac.data.descriptors import compute_descriptors\n"
   ]
  },
  {
   "cell_type": "code",
   "execution_count": null,
   "metadata": {},
   "outputs": [],
   "source": [
    "# Directory containing test XYZ files\n",
    "input_dir = os.path.join(\"dataset\", \"testing_xyz_files\")\n",
    "\n",
    "# Read molecules from the test XYZ files\n",
    "molecules = read_xyz_files(input_dir)\n",
    "print(f\"Read {len(molecules)} molecules from {input_dir}\")"
   ]
  },
  {
   "cell_type": "code",
   "execution_count": null,
   "metadata": {},
   "outputs": [],
   "source": [
    "# Compute descriptors for each test molecule\n",
    "descriptors_list = []\n",
    "for idx, atoms in enumerate(molecules):\n",
    "    try:\n",
    "        desc = compute_descriptors(atoms)\n",
    "        desc['mol_id'] = idx\n",
    "        descriptors_list.append(desc)\n",
    "    except Exception as e:\n",
    "        print(f\"Failed to compute descriptors for molecule {idx}: {e}\")\n",
    "\n"
   ]
  },
  {
   "cell_type": "code",
   "execution_count": null,
   "metadata": {},
   "outputs": [],
   "source": [
    "# Create a DataFrame and reorder columns so that 'mol_id' comes first\n",
    "df_new = pd.DataFrame(descriptors_list)\n",
    "cols = ['mol_id'] + [col for col in df_new.columns if col != 'mol_id']\n",
    "df_new = df_new[cols]\n",
    "\n",
    "# Save new descriptors to CSV\n",
    "output_csv = os.path.join(\"dataset\", \"new_descriptors.csv\")\n",
    "df_new.to_csv(output_csv, index=False)\n",
    "print(f\"New descriptors saved to {output_csv}\")"
   ]
  }
 ],
 "metadata": {
  "kernelspec": {
   "display_name": "Python 3",
   "language": "python",
   "name": "python3"
  },
  "language_info": {
   "name": "python",
   "version": "3.13.2"
  }
 },
 "nbformat": 4,
 "nbformat_minor": 2
}
