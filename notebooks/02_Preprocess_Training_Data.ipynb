{
 "cells": [
  {
   "cell_type": "code",
   "execution_count": null,
   "metadata": {},
   "outputs": [],
   "source": [
    "import os\n",
    "import pandas as pd\n",
    "from opac.data.loader import read_xyz_files\n",
    "from opac.data.descriptors import compute_descriptors"
   ]
  },
  {
   "cell_type": "code",
   "execution_count": null,
   "metadata": {},
   "outputs": [],
   "source": [
    "# Directory with training XYZ files\n",
    "input_dir = os.path.join(\"dataset\", \"training_xyz_files\")\n",
    "\n",
    "# Read molecules from the XYZ files\n",
    "molecules = read_xyz_files(input_dir)\n",
    "print(f\"Read {len(molecules)} molecules from {input_dir}\")"
   ]
  },
  {
   "cell_type": "code",
   "execution_count": null,
   "metadata": {},
   "outputs": [],
   "source": [
    "# Compute descriptors for each molecule\n",
    "descriptors_list = []\n",
    "for idx, atoms in enumerate(molecules):\n",
    "    try:\n",
    "        desc = compute_descriptors(atoms, max_eigenvalues=22)\n",
    "        desc['mol_id'] = idx  # assign molecule ID\n",
    "        descriptors_list.append(desc)\n",
    "    except Exception as e:\n",
    "        print(f\"Failed to compute descriptors for molecule {idx}: {e}\")"
   ]
  },
  {
   "cell_type": "code",
   "execution_count": null,
   "metadata": {},
   "outputs": [],
   "source": [
    "# Create DataFrame and reorder columns so that 'mol_id' comes first\n",
    "df_descriptors = pd.DataFrame(descriptors_list)\n",
    "cols = ['mol_id'] + [col for col in df_descriptors.columns if col != 'mol_id']\n",
    "df_descriptors = df_descriptors[cols]\n",
    "\n",
    "# Save descriptors to CSV\n",
    "output_csv = os.path.join(\"dataset\", \"descriptors.csv\")\n",
    "df_descriptors.to_csv(output_csv, index=False)\n",
    "print(f\"Descriptors saved to {output_csv}\")"
   ]
  }
 ],
 "metadata": {
  "kernelspec": {
   "display_name": "Python 3",
   "language": "python",
   "name": "python3"
  },
  "language_info": {
   "name": "python",
   "version": "3.13.2"
  }
 },
 "nbformat": 4,
 "nbformat_minor": 2
}
